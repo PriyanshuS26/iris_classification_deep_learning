{
 "cells": [
  {
   "cell_type": "markdown",
   "id": "fbee6f94",
   "metadata": {},
   "source": [
    "### importing imp. libraries"
   ]
  },
  {
   "cell_type": "code",
   "execution_count": 30,
   "id": "16fcd5a6",
   "metadata": {},
   "outputs": [
    {
     "name": "stdout",
     "output_type": "stream",
     "text": [
      "Requirement already satisfied: pandas in c:\\users\\welcome\\anaconda3\\lib\\site-packages (1.2.4)\n",
      "Requirement already satisfied: numpy>=1.16.5 in c:\\users\\welcome\\anaconda3\\lib\\site-packages (from pandas) (1.23.1)\n",
      "Requirement already satisfied: python-dateutil>=2.7.3 in c:\\users\\welcome\\anaconda3\\lib\\site-packages (from pandas) (2.8.1)\n",
      "Requirement already satisfied: pytz>=2017.3 in c:\\users\\welcome\\anaconda3\\lib\\site-packages (from pandas) (2021.1)\n",
      "Requirement already satisfied: six>=1.5 in c:\\users\\welcome\\anaconda3\\lib\\site-packages (from python-dateutil>=2.7.3->pandas) (1.15.0)\n",
      "Requirement already satisfied: tensorflow in c:\\users\\welcome\\anaconda3\\lib\\site-packages (2.9.1)\n",
      "Requirement already satisfied: protobuf<3.20,>=3.9.2 in c:\\users\\welcome\\anaconda3\\lib\\site-packages (from tensorflow) (3.19.4)\n",
      "Requirement already satisfied: tensorflow-estimator<2.10.0,>=2.9.0rc0 in c:\\users\\welcome\\anaconda3\\lib\\site-packages (from tensorflow) (2.9.0)\n",
      "Requirement already satisfied: keras-preprocessing>=1.1.1 in c:\\users\\welcome\\anaconda3\\lib\\site-packages (from tensorflow) (1.1.2)\n",
      "Requirement already satisfied: keras<2.10.0,>=2.9.0rc0 in c:\\users\\welcome\\anaconda3\\lib\\site-packages (from tensorflow) (2.9.0)\n",
      "Requirement already satisfied: flatbuffers<2,>=1.12 in c:\\users\\welcome\\anaconda3\\lib\\site-packages (from tensorflow) (1.12)\n",
      "Requirement already satisfied: absl-py>=1.0.0 in c:\\users\\welcome\\anaconda3\\lib\\site-packages (from tensorflow) (1.2.0)\n",
      "Requirement already satisfied: grpcio<2.0,>=1.24.3 in c:\\users\\welcome\\anaconda3\\lib\\site-packages (from tensorflow) (1.47.0)\n",
      "Requirement already satisfied: h5py>=2.9.0 in c:\\users\\welcome\\anaconda3\\lib\\site-packages (from tensorflow) (2.10.0)\n",
      "Requirement already satisfied: tensorflow-io-gcs-filesystem>=0.23.1 in c:\\users\\welcome\\anaconda3\\lib\\site-packages (from tensorflow) (0.26.0)\n",
      "Requirement already satisfied: gast<=0.4.0,>=0.2.1 in c:\\users\\welcome\\anaconda3\\lib\\site-packages (from tensorflow) (0.4.0)\n",
      "Requirement already satisfied: termcolor>=1.1.0 in c:\\users\\welcome\\anaconda3\\lib\\site-packages (from tensorflow) (1.1.0)\n",
      "Requirement already satisfied: wrapt>=1.11.0 in c:\\users\\welcome\\anaconda3\\lib\\site-packages (from tensorflow) (1.12.1)\n",
      "Requirement already satisfied: six>=1.12.0 in c:\\users\\welcome\\anaconda3\\lib\\site-packages (from tensorflow) (1.15.0)\n",
      "Requirement already satisfied: google-pasta>=0.1.1 in c:\\users\\welcome\\anaconda3\\lib\\site-packages (from tensorflow) (0.2.0)\n",
      "Requirement already satisfied: astunparse>=1.6.0 in c:\\users\\welcome\\anaconda3\\lib\\site-packages (from tensorflow) (1.6.3)\n",
      "Requirement already satisfied: libclang>=13.0.0 in c:\\users\\welcome\\anaconda3\\lib\\site-packages (from tensorflow) (14.0.1)\n",
      "Requirement already satisfied: setuptools in c:\\users\\welcome\\anaconda3\\lib\\site-packages (from tensorflow) (52.0.0.post20210125)\n",
      "Requirement already satisfied: opt-einsum>=2.3.2 in c:\\users\\welcome\\anaconda3\\lib\\site-packages (from tensorflow) (3.3.0)\n",
      "Requirement already satisfied: tensorboard<2.10,>=2.9 in c:\\users\\welcome\\anaconda3\\lib\\site-packages (from tensorflow) (2.9.1)\n",
      "Requirement already satisfied: numpy>=1.20 in c:\\users\\welcome\\anaconda3\\lib\\site-packages (from tensorflow) (1.23.1)\n",
      "Requirement already satisfied: packaging in c:\\users\\welcome\\anaconda3\\lib\\site-packages (from tensorflow) (20.9)\n",
      "Requirement already satisfied: typing-extensions>=3.6.6 in c:\\users\\welcome\\anaconda3\\lib\\site-packages (from tensorflow) (3.7.4.3)\n",
      "Requirement already satisfied: wheel<1.0,>=0.23.0 in c:\\users\\welcome\\anaconda3\\lib\\site-packages (from astunparse>=1.6.0->tensorflow) (0.36.2)\n",
      "Requirement already satisfied: google-auth-oauthlib<0.5,>=0.4.1 in c:\\users\\welcome\\anaconda3\\lib\\site-packages (from tensorboard<2.10,>=2.9->tensorflow) (0.4.6)\n",
      "Requirement already satisfied: tensorboard-data-server<0.7.0,>=0.6.0 in c:\\users\\welcome\\anaconda3\\lib\\site-packages (from tensorboard<2.10,>=2.9->tensorflow) (0.6.1)\n",
      "Requirement already satisfied: tensorboard-plugin-wit>=1.6.0 in c:\\users\\welcome\\anaconda3\\lib\\site-packages (from tensorboard<2.10,>=2.9->tensorflow) (1.8.1)\n",
      "Requirement already satisfied: markdown>=2.6.8 in c:\\users\\welcome\\anaconda3\\lib\\site-packages (from tensorboard<2.10,>=2.9->tensorflow) (3.4.1)\n",
      "Requirement already satisfied: requests<3,>=2.21.0 in c:\\users\\welcome\\anaconda3\\lib\\site-packages (from tensorboard<2.10,>=2.9->tensorflow) (2.25.1)\n",
      "Requirement already satisfied: werkzeug>=1.0.1 in c:\\users\\welcome\\anaconda3\\lib\\site-packages (from tensorboard<2.10,>=2.9->tensorflow) (1.0.1)\n",
      "Requirement already satisfied: google-auth<3,>=1.6.3 in c:\\users\\welcome\\anaconda3\\lib\\site-packages (from tensorboard<2.10,>=2.9->tensorflow) (2.9.1)\n",
      "Requirement already satisfied: pyasn1-modules>=0.2.1 in c:\\users\\welcome\\anaconda3\\lib\\site-packages (from google-auth<3,>=1.6.3->tensorboard<2.10,>=2.9->tensorflow) (0.2.8)\n",
      "Requirement already satisfied: cachetools<6.0,>=2.0.0 in c:\\users\\welcome\\anaconda3\\lib\\site-packages (from google-auth<3,>=1.6.3->tensorboard<2.10,>=2.9->tensorflow) (5.2.0)\n",
      "Requirement already satisfied: rsa<5,>=3.1.4 in c:\\users\\welcome\\anaconda3\\lib\\site-packages (from google-auth<3,>=1.6.3->tensorboard<2.10,>=2.9->tensorflow) (4.8)\n",
      "Requirement already satisfied: requests-oauthlib>=0.7.0 in c:\\users\\welcome\\anaconda3\\lib\\site-packages (from google-auth-oauthlib<0.5,>=0.4.1->tensorboard<2.10,>=2.9->tensorflow) (1.3.1)\n",
      "Requirement already satisfied: importlib-metadata>=4.4 in c:\\users\\welcome\\anaconda3\\lib\\site-packages (from markdown>=2.6.8->tensorboard<2.10,>=2.9->tensorflow) (4.12.0)\n",
      "Requirement already satisfied: zipp>=0.5 in c:\\users\\welcome\\anaconda3\\lib\\site-packages (from importlib-metadata>=4.4->markdown>=2.6.8->tensorboard<2.10,>=2.9->tensorflow) (3.4.1)\n",
      "Requirement already satisfied: pyasn1<0.5.0,>=0.4.6 in c:\\users\\welcome\\anaconda3\\lib\\site-packages (from pyasn1-modules>=0.2.1->google-auth<3,>=1.6.3->tensorboard<2.10,>=2.9->tensorflow) (0.4.8)\n",
      "Requirement already satisfied: idna<3,>=2.5 in c:\\users\\welcome\\anaconda3\\lib\\site-packages (from requests<3,>=2.21.0->tensorboard<2.10,>=2.9->tensorflow) (2.10)\n",
      "Requirement already satisfied: chardet<5,>=3.0.2 in c:\\users\\welcome\\anaconda3\\lib\\site-packages (from requests<3,>=2.21.0->tensorboard<2.10,>=2.9->tensorflow) (4.0.0)\n",
      "Requirement already satisfied: urllib3<1.27,>=1.21.1 in c:\\users\\welcome\\anaconda3\\lib\\site-packages (from requests<3,>=2.21.0->tensorboard<2.10,>=2.9->tensorflow) (1.26.4)\n",
      "Requirement already satisfied: certifi>=2017.4.17 in c:\\users\\welcome\\anaconda3\\lib\\site-packages (from requests<3,>=2.21.0->tensorboard<2.10,>=2.9->tensorflow) (2020.12.5)\n",
      "Requirement already satisfied: oauthlib>=3.0.0 in c:\\users\\welcome\\anaconda3\\lib\\site-packages (from requests-oauthlib>=0.7.0->google-auth-oauthlib<0.5,>=0.4.1->tensorboard<2.10,>=2.9->tensorflow) (3.2.0)\n",
      "Requirement already satisfied: pyparsing>=2.0.2 in c:\\users\\welcome\\anaconda3\\lib\\site-packages (from packaging->tensorflow) (2.4.7)\n",
      "Requirement already satisfied: sklearn in c:\\users\\welcome\\anaconda3\\lib\\site-packages (0.0)\n",
      "Requirement already satisfied: scikit-learn in c:\\users\\welcome\\anaconda3\\lib\\site-packages (from sklearn) (0.23.2)\n",
      "Requirement already satisfied: numpy>=1.13.3 in c:\\users\\welcome\\anaconda3\\lib\\site-packages (from scikit-learn->sklearn) (1.23.1)\n",
      "Requirement already satisfied: threadpoolctl>=2.0.0 in c:\\users\\welcome\\anaconda3\\lib\\site-packages (from scikit-learn->sklearn) (2.1.0)\n",
      "Requirement already satisfied: joblib>=0.11 in c:\\users\\welcome\\anaconda3\\lib\\site-packages (from scikit-learn->sklearn) (1.0.1)\n",
      "Requirement already satisfied: scipy>=0.19.1 in c:\\users\\welcome\\anaconda3\\lib\\site-packages (from scikit-learn->sklearn) (1.5.4)\n",
      "Requirement already satisfied: matplotlib in c:\\users\\welcome\\anaconda3\\lib\\site-packages (3.3.4)\n",
      "Requirement already satisfied: python-dateutil>=2.1 in c:\\users\\welcome\\anaconda3\\lib\\site-packages (from matplotlib) (2.8.1)\n",
      "Requirement already satisfied: pyparsing!=2.0.4,!=2.1.2,!=2.1.6,>=2.0.3 in c:\\users\\welcome\\anaconda3\\lib\\site-packages (from matplotlib) (2.4.7)\n",
      "Requirement already satisfied: cycler>=0.10 in c:\\users\\welcome\\anaconda3\\lib\\site-packages (from matplotlib) (0.10.0)\n",
      "Requirement already satisfied: pillow>=6.2.0 in c:\\users\\welcome\\anaconda3\\lib\\site-packages (from matplotlib) (8.2.0)\n",
      "Requirement already satisfied: kiwisolver>=1.0.1 in c:\\users\\welcome\\anaconda3\\lib\\site-packages (from matplotlib) (1.3.1)\n",
      "Requirement already satisfied: numpy>=1.15 in c:\\users\\welcome\\anaconda3\\lib\\site-packages (from matplotlib) (1.23.1)\n",
      "Requirement already satisfied: six in c:\\users\\welcome\\anaconda3\\lib\\site-packages (from cycler>=0.10->matplotlib) (1.15.0)\n"
     ]
    }
   ],
   "source": [
    "!pip install pandas\n",
    "!pip install tensorflow\n",
    "!pip install sklearn\n",
    "!pip install matplotlib"
   ]
  },
  {
   "cell_type": "code",
   "execution_count": 31,
   "id": "da6e450b",
   "metadata": {},
   "outputs": [],
   "source": [
    "import pandas as pd\n",
    "import os\n",
    "import tensorflow as tf\n",
    "import numpy as np\n",
    "from sklearn.model_selection import train_test_split\n",
    "from sklearn.preprocessing import StandardScaler"
   ]
  },
  {
   "cell_type": "markdown",
   "id": "08522b5c",
   "metadata": {},
   "source": [
    "### loading the data"
   ]
  },
  {
   "cell_type": "code",
   "execution_count": 32,
   "id": "40b0f8fd",
   "metadata": {},
   "outputs": [
    {
     "name": "stdout",
     "output_type": "stream",
     "text": [
      "\n",
      "Loaded Data :\n",
      "-----------------------------------\n",
      "   Sepal.Length  Sepal.Width  Petal.Length  Petal.Width Species\n",
      "0           5.1          3.5           1.4          0.2  setosa\n",
      "1           4.9          3.0           1.4          0.2  setosa\n",
      "2           4.7          3.2           1.3          0.2  setosa\n",
      "3           4.6          3.1           1.5          0.2  setosa\n",
      "4           5.0          3.6           1.4          0.2  setosa\n"
     ]
    }
   ],
   "source": [
    "#losd data and review content\n",
    "iris_data = pd.read_csv(\"iris.csv\")\n",
    "\n",
    "print(\"\\nLoaded Data :\\n-----------------------------------\")\n",
    "print(iris_data.head())"
   ]
  },
  {
   "cell_type": "code",
   "execution_count": 33,
   "id": "dfcdaeaa",
   "metadata": {},
   "outputs": [],
   "source": [
    "#Use a Label encoder to convert String to numeric values \n",
    "#for the target variable\n",
    "\n",
    "from sklearn import preprocessing\n",
    "le = preprocessing.LabelEncoder()\n",
    "iris_data['Species'] = le.fit_transform(iris_data['Species'])"
   ]
  },
  {
   "cell_type": "code",
   "execution_count": 34,
   "id": "a83827a4",
   "metadata": {},
   "outputs": [],
   "source": [
    "#convert input to numpy array\n",
    "np_iris = iris_data.to_numpy()"
   ]
  },
  {
   "cell_type": "code",
   "execution_count": 35,
   "id": "81a277ee",
   "metadata": {},
   "outputs": [],
   "source": [
    "# separate feature and tgt variables\n",
    "X = np_iris[:,0:4]\n",
    "Y = np_iris[:,4]"
   ]
  },
  {
   "cell_type": "markdown",
   "id": "a985d3e3",
   "metadata": {},
   "source": [
    "### scaling - StandardScalar"
   ]
  },
  {
   "cell_type": "code",
   "execution_count": 36,
   "id": "01260775",
   "metadata": {},
   "outputs": [
    {
     "name": "stdout",
     "output_type": "stream",
     "text": [
      "\n",
      "Features before scaling :\n",
      "-------------------------\n",
      "[[5.1 3.5 1.4 0.2]\n",
      " [4.9 3.  1.4 0.2]\n",
      " [4.7 3.2 1.3 0.2]\n",
      " [4.6 3.1 1.5 0.2]\n",
      " [5.  3.6 1.4 0.2]]\n",
      "\n",
      "target before scaling :\n",
      "-------------------------\n",
      "[0. 0. 0. 0. 0.]\n"
     ]
    }
   ],
   "source": [
    "print(\"\\nFeatures before scaling :\\n-------------------------\")\n",
    "print(X[:5,:])\n",
    "print(\"\\ntarget before scaling :\\n-------------------------\")\n",
    "print(Y[:5])"
   ]
  },
  {
   "cell_type": "code",
   "execution_count": 37,
   "id": "2252f2b9",
   "metadata": {},
   "outputs": [],
   "source": [
    "# lets start scaling for independent variables\n",
    "\n",
    "# scalar model\n",
    "ss = StandardScaler().fit(X)\n",
    "# transforming\n",
    "X = ss.transform(X)"
   ]
  },
  {
   "cell_type": "code",
   "execution_count": 38,
   "id": "cc96a533",
   "metadata": {},
   "outputs": [],
   "source": [
    "# convert tgt variables as one-hot encoding array\n",
    "Y = tf.keras.utils.to_categorical(Y,3)"
   ]
  },
  {
   "cell_type": "code",
   "execution_count": 39,
   "id": "c9dda491",
   "metadata": {},
   "outputs": [
    {
     "name": "stdout",
     "output_type": "stream",
     "text": [
      "\n",
      "Features after scaling :\n",
      "------------------------------------\n",
      "[[-0.90068117  1.01900435 -1.34022653 -1.3154443 ]\n",
      " [-1.14301691 -0.13197948 -1.34022653 -1.3154443 ]\n",
      " [-1.38535265  0.32841405 -1.39706395 -1.3154443 ]\n",
      " [-1.50652052  0.09821729 -1.2833891  -1.3154443 ]\n",
      " [-1.02184904  1.24920112 -1.34022653 -1.3154443 ]]\n",
      "\n",
      "Target after one-hot-encoding :\n",
      "------------------------------------\n",
      "[[1. 0. 0.]\n",
      " [1. 0. 0.]\n",
      " [1. 0. 0.]\n",
      " [1. 0. 0.]\n",
      " [1. 0. 0.]]\n"
     ]
    }
   ],
   "source": [
    "print(\"\\nFeatures after scaling :\\n------------------------------------\")\n",
    "print(X[:5,:])\n",
    "print(\"\\nTarget after one-hot-encoding :\\n------------------------------------\")\n",
    "print(Y[:5,:])"
   ]
  },
  {
   "cell_type": "markdown",
   "id": "83d9e860",
   "metadata": {},
   "source": [
    "### train-test split"
   ]
  },
  {
   "cell_type": "code",
   "execution_count": 40,
   "id": "f92bfb7b",
   "metadata": {},
   "outputs": [
    {
     "name": "stdout",
     "output_type": "stream",
     "text": [
      "Train Test shape\n",
      "-------------------\n",
      "(135, 4) (15, 4) (135, 3) (15, 3)\n"
     ]
    }
   ],
   "source": [
    "X_train, X_test, Y_train, Y_test = train_test_split(X,Y, test_size=0.10) \n",
    "\n",
    "print(\"Train Test shape\\n-------------------\")\n",
    "print(X_train.shape, X_test.shape, Y_train.shape, Y_test.shape)"
   ]
  },
  {
   "cell_type": "code",
   "execution_count": null,
   "id": "cad28c10",
   "metadata": {},
   "outputs": [],
   "source": []
  },
  {
   "cell_type": "code",
   "execution_count": 41,
   "id": "f80c8b5e",
   "metadata": {},
   "outputs": [],
   "source": [
    "# #Load Data and review content\n",
    "# iris_data = pd.read_csv(\"iris.csv\")\n",
    "\n",
    "# print(\"\\nLoaded Data :\\n------------------------------------\")\n",
    "# print(iris_data.head())\n",
    "\n",
    "# #Use a Label encoder to convert String to numeric values \n",
    "# #for the target variable\n",
    "\n",
    "# from sklearn import preprocessing\n",
    "# label_encoder = preprocessing.LabelEncoder()\n",
    "# iris_data['Species'] = label_encoder.fit_transform(\n",
    "#                                 iris_data['Species'])\n",
    "\n",
    "# #Convert input to numpy array\n",
    "# np_iris = iris_data.to_numpy()\n",
    "\n",
    "# #Separate feature and target variables\n",
    "# X_data = np_iris[:,0:4]\n",
    "# Y_data=np_iris[:,4]\n",
    "\n",
    "# print(\"\\nFeatures before scaling :\\n------------------------------------\")\n",
    "# print(X_data[:5,:])\n",
    "# print(\"\\nTarget before scaling :\\n------------------------------------\")\n",
    "# print(Y_data[:5])\n",
    "\n",
    "# #Create a scaler model that is fit on the input data.\n",
    "# scaler = StandardScaler().fit(X_data)\n",
    "\n",
    "# #Scale the numeric feature variables\n",
    "# X_data = scaler.transform(X_data)\n",
    "\n",
    "# #Convert target variable as a one-hot-encoding array\n",
    "# Y_data = tf.keras.utils.to_categorical(Y_data,3)\n",
    "\n",
    "# print(\"\\nFeatures after scaling :\\n------------------------------------\")\n",
    "# print(X_data[:5,:])\n",
    "# print(\"\\nTarget after one-hot-encoding :\\n------------------------------------\")\n",
    "# print(Y_data[:5,:])\n",
    "\n",
    "# #Split training and test data\n",
    "# X_train,X_test,Y_train,Y_test = train_test_split( X_data, Y_data, test_size=0.10)\n",
    "\n",
    "# print(\"\\nTrain Test Dimensions:\\n------------------------------------\")\n",
    "# print(X_train.shape, Y_train.shape, X_test.shape, Y_test.shape)"
   ]
  },
  {
   "cell_type": "code",
   "execution_count": null,
   "id": "ada1118d",
   "metadata": {},
   "outputs": [],
   "source": []
  },
  {
   "cell_type": "markdown",
   "id": "e53c7390",
   "metadata": {},
   "source": [
    "### building HL and networks"
   ]
  },
  {
   "cell_type": "code",
   "execution_count": 42,
   "id": "d0fe3b1e",
   "metadata": {},
   "outputs": [],
   "source": [
    "from tensorflow import keras"
   ]
  },
  {
   "cell_type": "code",
   "execution_count": 43,
   "id": "613e170c",
   "metadata": {},
   "outputs": [],
   "source": [
    "# no of classes in tgt variables\n",
    "NB_CLASSES = 3"
   ]
  },
  {
   "cell_type": "code",
   "execution_count": 44,
   "id": "c1a6b034",
   "metadata": {},
   "outputs": [
    {
     "name": "stdout",
     "output_type": "stream",
     "text": [
      "Model: \"sequential_2\"\n",
      "_________________________________________________________________\n",
      " Layer (type)                Output Shape              Param #   \n",
      "=================================================================\n",
      " Hidden-Layer-1 (Dense)      (None, 128)               640       \n",
      "                                                                 \n",
      " Hidden-Layer-2 (Dense)      (None, 128)               16512     \n",
      "                                                                 \n",
      " Output-Layer (Dense)        (None, 3)                 387       \n",
      "                                                                 \n",
      "=================================================================\n",
      "Total params: 17,539\n",
      "Trainable params: 17,539\n",
      "Non-trainable params: 0\n",
      "_________________________________________________________________\n"
     ]
    }
   ],
   "source": [
    "# create a sequential model in keras\n",
    "model = tf.keras.models.Sequential()\n",
    "\n",
    "# add a first HL \n",
    "model.add(keras.layers.Dense(128,                               # no. of nodes\n",
    "                            input_shape = (4,),                 # no. of independents(I/P) variables\n",
    "                            name = 'Hidden-Layer-1',            # logical name\n",
    "                            activation='relu')                  # activation function\n",
    "         )\n",
    "\n",
    "# add a second HL\n",
    "model.add(keras.layers.Dense(128,\n",
    "                            name = 'Hidden-Layer-2',\n",
    "                            activation = 'relu'))\n",
    "\n",
    "# add an output layer with Softmax activation\n",
    "model.add(keras.layers.Dense(NB_CLASSES,\n",
    "                             name='Output-Layer',\n",
    "                             activation='softmax'))\n",
    "\n",
    "# compile the model with loss and metrics\n",
    "model.compile(loss='categorical_crossentropy',\n",
    "             metrics=['accuracy'])\n",
    "\n",
    "# summary\n",
    "model.summary()"
   ]
  },
  {
   "cell_type": "code",
   "execution_count": null,
   "id": "ab4c4e15",
   "metadata": {},
   "outputs": [],
   "source": []
  },
  {
   "cell_type": "code",
   "execution_count": 45,
   "id": "2c9f3cb1",
   "metadata": {
    "scrolled": true
   },
   "outputs": [],
   "source": [
    "# from tensorflow import keras\n",
    "\n",
    "# #Number of classes in the target variable\n",
    "# NB_CLASSES=3\n",
    "\n",
    "# #Create a sequencial model in Keras\n",
    "# model = tf.keras.models.Sequential()\n",
    "\n",
    "# #Add the first hidden layer\n",
    "# model.add(keras.layers.Dense(128,                    #Number of nodes\n",
    "#                              input_shape=(4,),       #Number of input variables\n",
    "#                               name='Hidden-Layer-1', #Logical name\n",
    "#                               activation='relu'))    #activation function\n",
    "\n",
    "# #Add a second hidden layer\n",
    "# model.add(keras.layers.Dense(128,\n",
    "#                               name='Hidden-Layer-2',\n",
    "#                               activation='relu'))\n",
    "\n",
    "# #Add an output layer with softmax activation\n",
    "# model.add(keras.layers.Dense(NB_CLASSES,\n",
    "#                              name='Output-Layer',\n",
    "#                              activation='softmax'))\n",
    "\n",
    "# #Compile the model with loss & metrics\n",
    "# model.compile(loss='categorical_crossentropy',\n",
    "#               metrics=['accuracy'])\n",
    "\n",
    "# #Print the model meta-data\n",
    "# model.summary()"
   ]
  },
  {
   "cell_type": "code",
   "execution_count": null,
   "id": "f5211672",
   "metadata": {},
   "outputs": [],
   "source": []
  },
  {
   "cell_type": "markdown",
   "id": "b3589984",
   "metadata": {},
   "source": [
    "### Training and evaluating the Model\n",
    "#### Training the model involves defining various training models and then perform forward and back propagation."
   ]
  },
  {
   "cell_type": "code",
   "execution_count": 46,
   "id": "e40732b3",
   "metadata": {},
   "outputs": [
    {
     "name": "stdout",
     "output_type": "stream",
     "text": [
      "Training Progress:\n",
      "---------------------------------\n",
      "Epoch 1/10\n",
      "8/8 [==============================] - 0s 18ms/step - loss: 0.8259 - accuracy: 0.7083 - val_loss: 0.6256 - val_accuracy: 1.0000\n",
      "Epoch 2/10\n",
      "8/8 [==============================] - 0s 5ms/step - loss: 0.5295 - accuracy: 0.8500 - val_loss: 0.6425 - val_accuracy: 0.7667\n",
      "Epoch 3/10\n",
      "8/8 [==============================] - 0s 5ms/step - loss: 0.4145 - accuracy: 0.8833 - val_loss: 0.7305 - val_accuracy: 0.6000\n",
      "Epoch 4/10\n",
      "8/8 [==============================] - 0s 5ms/step - loss: 0.3540 - accuracy: 0.9083 - val_loss: 0.5643 - val_accuracy: 0.7667\n",
      "Epoch 5/10\n",
      "8/8 [==============================] - 0s 5ms/step - loss: 0.3060 - accuracy: 0.9167 - val_loss: 0.4260 - val_accuracy: 0.9000\n",
      "Epoch 6/10\n",
      "8/8 [==============================] - 0s 5ms/step - loss: 0.2698 - accuracy: 0.9417 - val_loss: 0.3683 - val_accuracy: 0.9333\n",
      "Epoch 7/10\n",
      "8/8 [==============================] - 0s 5ms/step - loss: 0.2476 - accuracy: 0.9500 - val_loss: 0.4605 - val_accuracy: 0.8333\n",
      "Epoch 8/10\n",
      "8/8 [==============================] - 0s 4ms/step - loss: 0.2156 - accuracy: 0.9583 - val_loss: 0.4768 - val_accuracy: 0.8000\n",
      "Epoch 9/10\n",
      "8/8 [==============================] - 0s 5ms/step - loss: 0.1937 - accuracy: 0.9667 - val_loss: 0.4159 - val_accuracy: 0.8667\n",
      "Epoch 10/10\n",
      "8/8 [==============================] - 0s 5ms/step - loss: 0.1738 - accuracy: 0.9667 - val_loss: 0.4303 - val_accuracy: 0.8667\n",
      "\n",
      "Accuracy during Traing\n",
      "----------------------------------\n"
     ]
    },
    {
     "data": {
      "image/png": "[encoded data removed]",
      "text/plain": [
       "<Figure size 576x360 with 1 Axes>"
      ]
     },
     "metadata": {
      "needs_background": "light"
     },
     "output_type": "display_data"
    },
    {
     "name": "stdout",
     "output_type": "stream",
     "text": [
      "\n",
      "Evaluation against Test Dataset :\n",
      "------------------------------------\n",
      "1/1 [==============================] - 0s 19ms/step - loss: 0.1715 - accuracy: 0.9333\n"
     ]
    },
    {
     "data": {
      "text/plain": [
       "[0.17146113514900208, 0.9333333373069763]"
      ]
     },
     "execution_count": 46,
     "metadata": {},
     "output_type": "execute_result"
    }
   ],
   "source": [
    "# make the verbose so that we can see the progress\n",
    "VERBOSE = 1\n",
    "\n",
    "#Setup Hyper Parameters for training\n",
    "\n",
    "# set batch size\n",
    "BATCH_SIZE = 16\n",
    "\n",
    "# set no. of epochs\n",
    "EPOCHS = 10\n",
    "\n",
    "# set validation split = 20% of the traing data \n",
    "# after each epoch\n",
    "VALIDATION_SPLIT=0.2\n",
    "\n",
    "print(\"Training Progress:\\n---------------------------------\")\n",
    "\n",
    "# Fit the model. This will perform the entire training cycle, including forward propagation, loss computation,\n",
    "# backward propagation and gradient descent.\n",
    "# execute validation after each epoch\n",
    "\n",
    "history = model.fit(X, Y, batch_size=BATCH_SIZE, epochs=EPOCHS, verbose=VERBOSE, validation_split=VALIDATION_SPLIT)\n",
    "\n",
    "print(\"\\nAccuracy during Traing\\n----------------------------------\")\n",
    "\n",
    "import matplotlib.pyplot as plt\n",
    "\n",
    "#Plot accuracy of the model after each epoch.\n",
    "pd.DataFrame(history.history)[\"accuracy\"].plot(figsize=(8, 5))\n",
    "plt.title(\"Accuracy improvements with Epoch\")\n",
    "plt.show()\n",
    "\n",
    "#Evaluate the model against the test dataset and print results\n",
    "print(\"\\nEvaluation against Test Dataset :\\n------------------------------------\")\n",
    "model.evaluate(X_test,Y_test)"
   ]
  },
  {
   "cell_type": "code",
   "execution_count": null,
   "id": "af135cff",
   "metadata": {},
   "outputs": [],
   "source": []
  },
  {
   "cell_type": "code",
   "execution_count": 47,
   "id": "93862077",
   "metadata": {},
   "outputs": [],
   "source": [
    "# #Make it verbose so we can see the progress\n",
    "# VERBOSE=1\n",
    "\n",
    "# #Setup Hyper Parameters for training\n",
    "\n",
    "# #Set Batch size\n",
    "# BATCH_SIZE=16\n",
    "# #Set number of epochs\n",
    "# EPOCHS=10\n",
    "# #Set validation split. 20% of the training data will be used for validation\n",
    "# #after each epoch\n",
    "# VALIDATION_SPLIT=0.2\n",
    "\n",
    "# print(\"\\nTraining Progress:\\n------------------------------------\")\n",
    "\n",
    "# #Fit the model. This will perform the entire training cycle, including\n",
    "# #forward propagation, loss computation, backward propagation and gradient descent.\n",
    "# #Execute for the specified batch sizes and epoch\n",
    "# #Perform validation after each epoch \n",
    "# history=model.fit(X_train,\n",
    "#           Y_train,\n",
    "#           batch_size=BATCH_SIZE,\n",
    "#           epochs=EPOCHS,\n",
    "#           verbose=VERBOSE,\n",
    "#           validation_split=VALIDATION_SPLIT)\n",
    "\n",
    "# print(\"\\nAccuracy during Training :\\n------------------------------------\")\n",
    "# import matplotlib.pyplot as plt\n",
    "\n",
    "# #Plot accuracy of the model after each epoch.\n",
    "# pd.DataFrame(history.history)[\"accuracy\"].plot(figsize=(8, 5))\n",
    "# plt.title(\"Accuracy improvements with Epoch\")\n",
    "# plt.show()\n",
    "\n",
    "# #Evaluate the model against the test dataset and print results\n",
    "# print(\"\\nEvaluation against Test Dataset :\\n------------------------------------\")\n",
    "# model.evaluate(X_test,Y_test)"
   ]
  },
  {
   "cell_type": "code",
   "execution_count": null,
   "id": "b93bed88",
   "metadata": {},
   "outputs": [],
   "source": []
  },
  {
   "cell_type": "markdown",
   "id": "46696c18",
   "metadata": {},
   "source": [
    "### Saving and Loading Models"
   ]
  },
  {
   "cell_type": "code",
   "execution_count": 48,
   "id": "b810d7b1",
   "metadata": {},
   "outputs": [
    {
     "name": "stderr",
     "output_type": "stream",
     "text": [
      "WARNING:absl:Function `_wrapped_model` contains input name(s) Hidden-Layer-1_input with unsupported characters which will be renamed to hidden_layer_1_input in the SavedModel.\n"
     ]
    },
    {
     "name": "stdout",
     "output_type": "stream",
     "text": [
      "INFO:tensorflow:Assets written to: iris_save\\assets\n"
     ]
    },
    {
     "name": "stderr",
     "output_type": "stream",
     "text": [
      "INFO:tensorflow:Assets written to: iris_save\\assets\n"
     ]
    }
   ],
   "source": [
    "# saving a model\n",
    "model.save(\"iris_save\")"
   ]
  },
  {
   "cell_type": "code",
   "execution_count": 49,
   "id": "d85c5a46",
   "metadata": {},
   "outputs": [
    {
     "name": "stdout",
     "output_type": "stream",
     "text": [
      "Model: \"sequential_2\"\n",
      "_________________________________________________________________\n",
      " Layer (type)                Output Shape              Param #   \n",
      "=================================================================\n",
      " Hidden-Layer-1 (Dense)      (None, 128)               640       \n",
      "                                                                 \n",
      " Hidden-Layer-2 (Dense)      (None, 128)               16512     \n",
      "                                                                 \n",
      " Output-Layer (Dense)        (None, 3)                 387       \n",
      "                                                                 \n",
      "=================================================================\n",
      "Total params: 17,539\n",
      "Trainable params: 17,539\n",
      "Non-trainable params: 0\n",
      "_________________________________________________________________\n"
     ]
    }
   ],
   "source": [
    "# loading a model\n",
    "loaded_model = keras.models.load_model(\"iris_save\")\n",
    "\n",
    "# print the summary\n",
    "loaded_model.summary()"
   ]
  },
  {
   "cell_type": "markdown",
   "id": "324bed3b",
   "metadata": {},
   "source": [
    "### Predictions with Deep Learning Models"
   ]
  },
  {
   "cell_type": "code",
   "execution_count": 53,
   "id": "60119e92",
   "metadata": {},
   "outputs": [
    {
     "name": "stdout",
     "output_type": "stream",
     "text": [
      "1/1 [==============================] - 0s 17ms/step\n",
      "Raw Prediction Output (Probabilities) : [[0.01181205 0.87134844 0.1168396 ]]\n",
      "Prediction is  ['versicolor']\n"
     ]
    }
   ],
   "source": [
    "#Raw prediction data\n",
    "prediction_input = [[6.6, 3. , 4.4, 1.4]]\n",
    "\n",
    "#Scale prediction data with the same scaling model\n",
    "scaled_input = ss.transform(prediction_input)\n",
    "\n",
    "#Get raw prediction probabilities\n",
    "raw_prediction = model.predict(scaled_input)\n",
    "print(\"Raw Prediction Output (Probabilities) :\" , raw_prediction)\n",
    "\n",
    "#Find prediction\n",
    "prediction = np.argmax(raw_prediction)\n",
    "print(\"Prediction is \", le.inverse_transform([prediction]))"
   ]
  },
  {
   "cell_type": "code",
   "execution_count": null,
   "id": "394251e1",
   "metadata": {},
   "outputs": [],
   "source": []
  }
 ],
 "metadata": {
  "kernelspec": {
   "display_name": "Python 3",
   "language": "python",
   "name": "python3"
  },
  "language_info": {
   "codemirror_mode": {
    "name": "ipython",
    "version": 3
   },
   "file_extension": ".py",
   "mimetype": "text/x-python",
   "name": "python",
   "nbconvert_exporter": "python",
   "pygments_lexer": "ipython3",
   "version": "3.8.8"
  }
 },
 "nbformat": 4,
 "nbformat_minor": 5
}
